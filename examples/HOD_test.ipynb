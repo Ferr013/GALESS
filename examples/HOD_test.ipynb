{
 "cells": [
  {
   "cell_type": "code",
   "execution_count": 1,
   "metadata": {},
   "outputs": [
    {
     "name": "stderr",
     "output_type": "stream",
     "text": [
      "/Users/giofer/anaconda3/envs/hmf/lib/python3.12/site-packages/halomod/halo_exclusion.py:18: UserWarning: Warning: Some Halo-Exclusion models have significant speedup when using Numba\n",
      "  warnings.warn(\n"
     ]
    }
   ],
   "source": [
    "import sys\n",
    "import numpy as np\n",
    "import matplotlib.pyplot as plt\n",
    "sys.path.append(\"../galess\")\n",
    "import lens_plot\n",
    "import HOD"
   ]
  },
  {
   "cell_type": "code",
   "execution_count": 8,
   "metadata": {},
   "outputs": [
    {
     "name": "stdout",
     "output_type": "stream",
     "text": [
      "Calculating HMF table at redshift 2.90\n"
     ]
    },
    {
     "name": "stderr",
     "output_type": "stream",
     "text": [
      "/Users/giofer/anaconda3/envs/hmf/lib/python3.12/site-packages/hmf/mass_function/fitting_functions.py:1600: RuntimeWarning: divide by zero encountered in log10\n",
      "  ngtm_behroozi = 10 ** (theta + np.log10(ngtm_tinker))\n"
     ]
    },
    {
     "name": "stdout",
     "output_type": "stream",
     "text": [
      "Calculating HMF table at redshift 2.30\n",
      "Calculating HMF table at redshift 2.40\n",
      "Calculating HMF table at redshift 2.50\n",
      "Calculating HMF table at redshift 2.60\n",
      "Calculating HMF table at redshift 2.70\n",
      "Calculating HMF table at redshift 2.80\n",
      "Calculating HMF table at redshift 3.00\n",
      "Calculating HMF table at redshift 3.10\n",
      "Calculating HMF table at redshift 3.20\n",
      "Calculating HMF table at redshift 3.30\n",
      "Calculating HMF table at redshift 3.40\n",
      "Calculating HMF table at redshift 3.50\n",
      "Calculating HMF table at redshift 3.60\n",
      "Calculating HMF table at redshift 3.70\n",
      "Calculating HMF table at redshift 3.80\n",
      "Calculating HMF table at redshift 3.90\n",
      "Calculating HMF table at redshift 4.00\n",
      "redshift z   : 2.90\n",
      "n_avg        : 5.93e-03\n",
      "N_g_AVG      : 6.22e-04\n",
      "log(M_h_AVG) : 12.04\n",
      "b_eff        : 3.72\n",
      "log(f_sat)   : -0.70\n"
     ]
    }
   ],
   "source": [
    "if(0):\n",
    "    z = 1.7\n",
    "    M_sat, M_min, sigma_logM, alpha = 10**14.18, 10**12.46, 0.2, 1.0\n",
    "    z_array = np.array([1.2, 1.3, 1.4, 1.5, 1.6, 1.7, 1.8, 1.9, 2.0, 2.1, 2.2])\n",
    "    N_z_nrm = np.array([0.0, 1.0, 1.0, 1.0, 1.0, 1.0, 1.0, 1.0, 1.0, 1.0, 0.0])\n",
    "else:\n",
    "    z = 2.9\n",
    "    M_sat, M_min, sigma_logM, alpha = 10**12.55, 10**11.71, 0.2, 1.0\n",
    "    data = [\n",
    "            [2.000000e+00, 2.017570e-02],\n",
    "            [2.100000e+00, 5.120140e-02],\n",
    "            [2.200000e+00, 8.963850e-02],\n",
    "            [2.300000e+00, 1.257240e-01],\n",
    "            [2.400000e+00, 1.558000e-01],\n",
    "            [2.500000e+00, 2.025050e-01],\n",
    "            [2.600000e+00, 2.320880e-01],\n",
    "            [2.700000e+00, 3.334470e-01],\n",
    "            [2.800000e+00, 3.349540e-01],\n",
    "            [2.900000e+00, 4.237170e-01],\n",
    "            [3.000000e+00, 4.196420e-01],\n",
    "            [3.100000e+00, 4.230910e-01],\n",
    "            [3.200000e+00, 4.523410e-01],\n",
    "            [3.300000e+00, 3.643720e-01],\n",
    "            [3.400000e+00, 1.837830e-01],\n",
    "            [3.500000e+00, 4.229380e-02],\n",
    "            [3.600000e+00, 3.679960e-02],\n",
    "            [3.700000e+00, 3.273170e-02],\n",
    "            [3.800000e+00, 5.401130e-02],\n",
    "            [3.900000e+00, 2.088890e-02],\n",
    "            [4.000000e+00, 1.080040e-02]\n",
    "            ]\n",
    "    z_array = np.array([row[0] for row in data])\n",
    "    N_z_nrm = np.array([row[1] for row in data])\n",
    "\n",
    "\n",
    "M_h_array, HMF_array, nu_array, hmf_k, hmf_PS = HOD.init_lookup_table(z)\n",
    "NTOT = HOD.N_tot(M_h_array, M_sat, alpha, M_min, sigma_logM)\n",
    "N_g_AVG = HOD.get_AVG_N_tot(M_min, sigma_logM, M_sat, alpha, z)\n",
    "M_h_AVG = HOD.get_AVG_Host_Halo_Mass(M_min, sigma_logM, M_sat, alpha, z)\n",
    "b_eff = HOD.get_EFF_gal_bias(M_min, sigma_logM, M_sat, alpha, z, USE_MY_BIAS = 0)\n",
    "f_sat = HOD.get_AVG_f_sat(M_min, sigma_logM, M_sat, alpha, z)\n",
    "n_avg = HOD.get_N_dens_avg(z_array, M_min, sigma_logM, M_sat, alpha, z, N_z_nrm)\n",
    "\n",
    "print(f'redshift z   : {z:.2f}')\n",
    "print(f'n_avg        : {n_avg:.2e}')\n",
    "print(f'N_g_AVG      : {N_g_AVG:.2e}')\n",
    "print(f'log(M_h_AVG) : {np.log10(M_h_AVG):.2f}')\n",
    "print(f'b_eff        : {b_eff:.2f}')\n",
    "print(f'log(f_sat)   : {np.log10(f_sat):.2f}')"
   ]
  },
  {
   "cell_type": "code",
   "execution_count": 5,
   "metadata": {},
   "outputs": [
    {
     "data": {
      "application/vnd.jupyter.widget-view+json": {
       "model_id": "e430bb6bf8b84979b75a776001f54eb4",
       "version_major": 2,
       "version_minor": 0
      },
      "text/plain": [
       "  0%|          | 0/14 [00:00<?, ?it/s]"
      ]
     },
     "metadata": {},
     "output_type": "display_data"
    }
   ],
   "source": [
    "_theta_arcsec = np.logspace(-1,3.333334,14)\n",
    "theta = _theta_arcsec * 1/206265 # 1 arcsec in rad\n",
    "omega1h, omega2h = HOD.omega_array(theta, M_min, sigma_logM, M_sat, alpha, z, N_z_nrm, z_array, USE_MY_PS = False)"
   ]
  },
  {
   "cell_type": "code",
   "execution_count": 9,
   "metadata": {},
   "outputs": [
    {
     "data": {
      "image/png": "[encoded data removed]",
      "text/plain": [
       "<Figure size 450x300 with 1 Axes>"
      ]
     },
     "metadata": {},
     "output_type": "display_data"
    }
   ],
   "source": [
    "___PLOT_FOR_KEYNOTE___ = 1\n",
    "COL = 'w' if ___PLOT_FOR_KEYNOTE___ else 'k'\n",
    "line_c, cmap_c, _col_, col_A, col_B, col_C, col_D, fn_prefix = lens_plot.set_plt_param(___PLOT_FOR_KEYNOTE___)\n",
    "fig, ax = plt.subplots(1, 1, figsize=(4.5, 3), sharex=False, sharey=False)\n",
    "ax.plot(_theta_arcsec, omega1h, c = COL,ls = '--', label=r'$\\omega_{1h}$')\n",
    "ax.plot(_theta_arcsec, omega2h, c = COL,ls = '-.', label=r'$\\omega_{2h}$')\n",
    "ax.plot(_theta_arcsec, omega1h+omega2h, c = COL,ls = '-')\n",
    "ax.set_xscale('log')\n",
    "ax.set_yscale('log')\n",
    "ax.set_xlim((0.5,2e3))\n",
    "ax.set_ylim((1e-3,4e0)) if z < 3.7 else ax.set_ylim((1e-2,4e1))\n",
    "ax.set_xlabel(r'$\\theta$ [arcsec]')\n",
    "ax.set_ylabel(r'$\\omega$($\\theta$)')\n",
    "plt.legend()\n",
    "plt.show()"
   ]
  }
 ],
 "metadata": {
  "kernelspec": {
   "display_name": "hmf",
   "language": "python",
   "name": "python3"
  },
  "language_info": {
   "codemirror_mode": {
    "name": "ipython",
    "version": 3
   },
   "file_extension": ".py",
   "mimetype": "text/x-python",
   "name": "python",
   "nbconvert_exporter": "python",
   "pygments_lexer": "ipython3",
   "version": "3.12.0"
  },
  "orig_nbformat": 4
 },
 "nbformat": 4,
 "nbformat_minor": 2
}
