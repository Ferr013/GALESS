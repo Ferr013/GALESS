{
 "cells": [
  {
   "cell_type": "code",
   "execution_count": 1,
   "metadata": {},
   "outputs": [
    {
     "name": "stdout",
     "output_type": "stream",
     "text": [
      "Intel MKL WARNING: Support of Intel(R) Streaming SIMD Extensions 4.2 (Intel(R) SSE4.2) enabled only processors has been deprecated. Intel oneAPI Math Kernel Library 2025.0 will require Intel(R) Advanced Vector Extensions (Intel(R) AVX) instructions.\n",
      "Intel MKL WARNING: Support of Intel(R) Streaming SIMD Extensions 4.2 (Intel(R) SSE4.2) enabled only processors has been deprecated. Intel oneAPI Math Kernel Library 2025.0 will require Intel(R) Advanced Vector Extensions (Intel(R) AVX) instructions.\n"
     ]
    },
    {
     "name": "stderr",
     "output_type": "stream",
     "text": [
      "/Users/giofer/anaconda3/envs/HOD/lib/python3.11/site-packages/halomod/halo_exclusion.py:18: UserWarning: Warning: Some Halo-Exclusion models have significant speedup when using Numba\n",
      "  warnings.warn(\n"
     ]
    }
   ],
   "source": [
    "import sys\n",
    "import numpy as np\n",
    "import matplotlib.pyplot as plt\n",
    "sys.path.append(\"../galess\")\n",
    "import lens_plot\n",
    "import HOD"
   ]
  },
  {
   "cell_type": "code",
   "execution_count": 2,
   "metadata": {},
   "outputs": [
    {
     "name": "stdout",
     "output_type": "stream",
     "text": [
      "Calculating HMF table at redshift 1.70\n"
     ]
    },
    {
     "name": "stderr",
     "output_type": "stream",
     "text": [
      "/Users/giofer/anaconda3/envs/HOD/lib/python3.11/site-packages/hmf/mass_function/fitting_functions.py:1600: RuntimeWarning: divide by zero encountered in log10\n",
      "  ngtm_behroozi = 10 ** (theta + np.log10(ngtm_tinker))\n",
      "/Users/giofer/anaconda3/envs/HOD/lib/python3.11/site-packages/hmf/density_field/halofit.py:107: UserWarning: sigma_8 is not used any more, and will be removed in v4\n",
      "  warnings.warn(\"sigma_8 is not used any more, and will be removed in v4\")\n"
     ]
    },
    {
     "name": "stdout",
     "output_type": "stream",
     "text": [
      "[487.1924286722503, -62.28387045880088, 25.476626164753718, -14.641266773557026, 9.784029481424303, -7.12589093775381, 5.485076705414089, -4.3901302088451315, 3.6168590227070916, -3.0462547179494948] ... [0.0027245580824224276, -0.00272015078904597, 0.0027165411556153815, -0.002712479366359729]\n"
     ]
    },
    {
     "data": {
      "text/plain": [
       "(441.4668980553465, 6.144241795542577e-06)"
      ]
     },
     "execution_count": 2,
     "metadata": {},
     "output_type": "execute_result"
    }
   ],
   "source": [
    "_theta_ = 1\n",
    "\n",
    "z = 1.7\n",
    "M_sat, M_min, sigma_logM, alpha = 10**14.18, 10**12.46, 0.2, 1.0\n",
    "z_array = np.array([1.2, 1.3, 1.4, 1.5, 1.6, 1.7, 1.8, 1.9, 2.0, 2.1, 2.2])\n",
    "N_z_nrm = np.array([0.0, 1.0, 1.0, 1.0, 1.0, 1.0, 1.0, 1.0, 1.0, 1.0, 0.0])\n",
    "\n",
    "from scipy import integrate\n",
    "from scipy import special\n",
    "import mpmath\n",
    "from hmf import MassFunction\n",
    "from halomod.bias import Tinker10\n",
    "from astropy.cosmology import FlatLambdaCDM\n",
    "cosmo  = FlatLambdaCDM(H0=67.74, Om0=0.3089, Tcmb0=2.725)\n",
    "OmegaM = cosmo.Om(0)\n",
    "OmegaL = cosmo.Ode(0)\n",
    "OmegaK = cosmo.Ok(0)\n",
    "OmegaB = 0.049\n",
    "OmegaC = OmegaM-OmegaB\n",
    "H0 = cosmo.H(0).value\n",
    "h  = H0/100\n",
    "c_light  = 299792.458\n",
    "\n",
    "_PS_NORM_ = HOD.norm_power_spectrum()\n",
    "M_h_array, HMF_array, nu_array, hmf_k, hmf_PS = HOD.init_lookup_table(z, REWRITE_TBLS=False)\n",
    "NCEN = HOD.N_cen(M_h_array, M_min, sigma_logM)\n",
    "NSAT = HOD.N_sat(M_h_array, M_sat, alpha, M_min, sigma_logM)\n",
    "D_ratio   = (HOD.D_growth_factor(z)/HOD.D_growth_factor(0))**2 if z != 0 else 1\n",
    "bias = Tinker10(nu=nu_array).bias() if 1 else HOD.halo_bias_TINKER(nu_array)\n",
    "N_G  = HOD.n_g(M_min, sigma_logM, M_sat, alpha, z, M_h_array, HMF_array)\n",
    "comoving_distance_z = cosmo.comoving_distance(z).value\n",
    "crit_dens_rescaled = (4/3*np.pi*cosmo.critical_density(z).value*200*2e40)\n",
    "\n",
    "USE_MY_PS = 0\n",
    "if (USE_MY_PS): \n",
    "    k_array = np.logspace(-5, 4, 10000)\n",
    "    dlogk = np.log(k_array[1]/k_array[0])\n",
    "else:\n",
    "    k_array = hmf_k\n",
    "    dlogk = np.log(hmf_k[1]/hmf_k[0])\n",
    "PS_1 = [HOD.PS_1h(k, M_min, sigma_logM, M_sat, alpha, z, crit_dens_rescaled, M_h_array, HMF_array, N_G, NCEN, NSAT) for k in k_array]\n",
    "PS_2 = [HOD.PS_2h(k, M_min, sigma_logM, M_sat, alpha, z, crit_dens_rescaled, M_h_array, HMF_array, N_G, NCEN, NSAT, bias, hmf_k, hmf_PS, D_ratio, _PS_NORM_, USE_MY_PS) for k in k_array]\n",
    "PS_2_corr =  np.array(PS_2) if USE_MY_PS else hmf_PS * np.array(PS_2)\n",
    "factor = np.array([HOD.factor_k(k, _theta_/206265, comoving_distance_z) for k in k_array])\n",
    "F_k_hmf = (np.array(PS_1) + PS_2_corr) * factor\n",
    "\n",
    "def F_k_hmf_func(k, M_min, sigma_logM, M_sat, alpha, z, crit_dens_rescaled, M_h_array, HMF_array, N_G, NCEN, NSAT, bias, hmf_k, hmf_PS, D_ratio, _PS_NORM_, USE_MY_PS):\n",
    "    PS_1 = HOD.PS_1h(k, M_min, sigma_logM, M_sat, alpha, z, crit_dens_rescaled, M_h_array, HMF_array, N_G, NCEN, NSAT) \n",
    "    PS_2 = HOD.PS_2h(k, M_min, sigma_logM, M_sat, alpha, z, crit_dens_rescaled, M_h_array, HMF_array, N_G, NCEN, NSAT, bias, hmf_k, hmf_PS, D_ratio, _PS_NORM_, USE_MY_PS)\n",
    "    PS_2_corr =  PS_2 if USE_MY_PS else hmf_PS * PS_2\n",
    "    factor = HOD.factor_k(k, _theta_/206265, comoving_distance_z)\n",
    "    return np.array((PS_1 + PS_2_corr) * factor)[0]\n",
    "\n",
    "def func(x, M_min, sigma_logM, M_sat, alpha, z, crit_dens_rescaled, M_h_array, HMF_array, N_G, NCEN, NSAT, bias, hmf_k, hmf_PS, D_ratio, _PS_NORM_, USE_MY_PS):\n",
    "    # x = k * _theta_ / 206265 * comoving_distance_z\n",
    "    k = x / (_theta_ / 206265 * comoving_distance_z)\n",
    "    PS_1 = HOD.PS_1h(k, M_min, sigma_logM, M_sat, alpha, z, crit_dens_rescaled, M_h_array, HMF_array, N_G, NCEN, NSAT) \n",
    "    PS_2 = HOD.PS_2h(k, M_min, sigma_logM, M_sat, alpha, z, crit_dens_rescaled, M_h_array, HMF_array, N_G, NCEN, NSAT, bias, hmf_k, hmf_PS, D_ratio, _PS_NORM_, USE_MY_PS)\n",
    "    PS_2_corr =  PS_2 if USE_MY_PS else hmf_PS * PS_2\n",
    "    factor = HOD.factor_k(k, _theta_/206265, comoving_distance_z)\n",
    "    return np.array((PS_1 + PS_2_corr) * factor)[0]\n",
    "\n",
    "from scipy.special import jn_zeros\n",
    "j_0_zeros = np.append(1e-3, jn_zeros(0,31832))\n",
    "j_0_zeros = np.append(1e-3, jn_zeros(0,1000))\n",
    "\n",
    "\n",
    "_args_ = M_min, sigma_logM, M_sat, alpha, z, crit_dens_rescaled, M_h_array, HMF_array, N_G, NCEN, NSAT, bias, hmf_k, hmf_PS, D_ratio, _PS_NORM_, USE_MY_PS\n",
    "INT_hmf = [integrate.quad(func, j_0_zero, j_0_zeros[ij+1], limit=10, epsabs=5e-1, args = (_args_))[0] for ij, j_0_zero in enumerate(j_0_zeros[:-1])]\n",
    "#INT_hmf = integrate.quad(func, 1e-3, 1e5, limit=1000, epsabs=1e-4, points = j_0_zeros, args = (_args_))[0]\n",
    "\n",
    "print(INT_hmf[:10], '...', INT_hmf[-4:])\n",
    "np.sum(INT_hmf), np.abs((np.sum(INT_hmf)-np.sum(INT_hmf[:-1]))/np.sum(INT_hmf))"
   ]
  },
  {
   "cell_type": "code",
   "execution_count": 145,
   "metadata": {},
   "outputs": [
    {
     "data": {
      "image/png": "[encoded data removed]",
      "text/plain": [
       "<Figure size 640x480 with 1 Axes>"
      ]
     },
     "metadata": {},
     "output_type": "display_data"
    }
   ],
   "source": [
    "plt.plot(jn_zeros(0,100000)[:-1], np.abs((np.cumsum(long_INT_hmf)[:-1]-np.cumsum(long_INT_hmf)[1:])/np.cumsum(long_INT_hmf)[:-1]), c='r')\n",
    "plt.plot(j_0_zeros[:-2], np.abs((np.cumsum(INT_hmf)[:-1]-np.cumsum(INT_hmf)[1:])/np.cumsum(INT_hmf)[:-1]))\n",
    "\n",
    "plt.xscale('log')\n",
    "plt.yscale('log')\n",
    "plt.xlim((1,1e5))\n",
    "plt.show()"
   ]
  },
  {
   "cell_type": "code",
   "execution_count": 23,
   "metadata": {},
   "outputs": [],
   "source": [
    "_theta_ = 1\n",
    "\n",
    "z = 1.7\n",
    "M_sat, M_min, sigma_logM, alpha = 10**14.18, 10**12.46, 0.2, 1.0\n",
    "z_array = np.array([1.2, 1.3, 1.4, 1.5, 1.6, 1.7, 1.8, 1.9, 2.0, 2.1, 2.2])\n",
    "N_z_nrm = np.array([0.0, 1.0, 1.0, 1.0, 1.0, 1.0, 1.0, 1.0, 1.0, 1.0, 0.0])\n",
    "\n",
    "if(0):\n",
    "    z = 5.9\n",
    "    M_sat, M_min, sigma_logM, alpha = 10**13.73, 10**12.09, 0.2, 1.0\n",
    "    data = [\n",
    "    (5.500000e+00, 2.321580e-02),\n",
    "    (5.600000e+00, 5.284060e-02),\n",
    "    (5.700000e+00, 1.436010e-01),\n",
    "    (5.800000e+00, 1.481370e-01),\n",
    "    (5.900000e+00, 1.036900e-01),\n",
    "    (6.000000e+00, 1.342000e-01),\n",
    "    (6.100000e+00, 2.453660e-01),\n",
    "    (6.200000e+00, 1.546640e-01),\n",
    "    (6.300000e+00, 1.127430e-02)\n",
    "    ]\n",
    "    z_array, N_z_nrm = np.array(data).T"
   ]
  },
  {
   "cell_type": "code",
   "execution_count": 24,
   "metadata": {},
   "outputs": [
    {
     "name": "stdout",
     "output_type": "stream",
     "text": [
      "Integral new: 3.8e+05, +- 2.6e+02\n",
      "Integral old: 9.5e+03\n"
     ]
    },
    {
     "name": "stderr",
     "output_type": "stream",
     "text": [
      "/var/folders/wk/scnpc33x3q348qw83nb1tcgw0000gn/T/ipykernel_4716/3369345655.py:47: IntegrationWarning: The occurrence of roundoff error is detected, which prevents \n",
      "  the requested tolerance from being achieved.  The error may be \n",
      "  underestimated.\n",
      "  INT_hmf, err = integrate.quad(F_k_hmf_func, 1e-3, np.inf, limit=10000, epsabs=1e-4, args = (M_min, sigma_logM, M_sat, alpha, z, crit_dens_rescaled, M_h_array, HMF_array, N_G, NCEN, NSAT, bias, hmf_k, hmf_PS, D_ratio, _PS_NORM_, USE_MY_PS))\n"
     ]
    }
   ],
   "source": [
    "from scipy import integrate\n",
    "from scipy import special\n",
    "import mpmath\n",
    "from hmf import MassFunction\n",
    "from halomod.bias import Tinker10\n",
    "from astropy.cosmology import FlatLambdaCDM\n",
    "cosmo  = FlatLambdaCDM(H0=67.74, Om0=0.3089, Tcmb0=2.725)\n",
    "OmegaM = cosmo.Om(0)\n",
    "OmegaL = cosmo.Ode(0)\n",
    "OmegaK = cosmo.Ok(0)\n",
    "OmegaB = 0.049\n",
    "OmegaC = OmegaM-OmegaB\n",
    "H0 = cosmo.H(0).value\n",
    "h  = H0/100\n",
    "c_light  = 299792.458\n",
    "\n",
    "_PS_NORM_ = HOD.norm_power_spectrum()\n",
    "M_h_array, HMF_array, nu_array, hmf_k, hmf_PS = HOD.init_lookup_table(z, REWRITE_TBLS=False)\n",
    "NCEN = HOD.N_cen(M_h_array, M_min, sigma_logM)\n",
    "NSAT = HOD.N_sat(M_h_array, M_sat, alpha, M_min, sigma_logM)\n",
    "D_ratio   = (HOD.D_growth_factor(z)/HOD.D_growth_factor(0))**2 if z != 0 else 1\n",
    "bias = Tinker10(nu=nu_array).bias() if 1 else HOD.halo_bias_TINKER(nu_array)\n",
    "N_G  = HOD.n_g(M_min, sigma_logM, M_sat, alpha, z, M_h_array, HMF_array)\n",
    "comoving_distance_z = cosmo.comoving_distance(z).value\n",
    "crit_dens_rescaled = (4/3*np.pi*cosmo.critical_density(z).value*200*2e40)\n",
    "\n",
    "USE_MY_PS = 0\n",
    "if (USE_MY_PS): \n",
    "    k_array = np.logspace(-3, 3, 2000)\n",
    "    dlogk = np.log(k_array[1]/k_array[0])\n",
    "else:\n",
    "    k_array = hmf_k\n",
    "    dlogk = np.log(hmf_k[1]/hmf_k[0])\n",
    "PS_1 = [HOD.PS_1h(k, M_min, sigma_logM, M_sat, alpha, z, crit_dens_rescaled, M_h_array, HMF_array, N_G, NCEN, NSAT) for k in k_array]\n",
    "PS_2 = [HOD.PS_2h(k, M_min, sigma_logM, M_sat, alpha, z, crit_dens_rescaled, M_h_array, HMF_array, N_G, NCEN, NSAT, bias, hmf_k, hmf_PS, D_ratio, _PS_NORM_, USE_MY_PS) for k in k_array]\n",
    "PS_2_corr =  np.array(PS_2) if USE_MY_PS else hmf_PS * np.array(PS_2)\n",
    "factor = np.array([HOD.factor_k(k, _theta_/206265, comoving_distance_z) for k in k_array])\n",
    "F_k_hmf = (np.array(PS_1) + PS_2_corr) * factor\n",
    "\n",
    "def F_k_hmf_func(k, M_min, sigma_logM, M_sat, alpha, z, crit_dens_rescaled, M_h_array, HMF_array, N_G, NCEN, NSAT, bias, hmf_k, hmf_PS, D_ratio, _PS_NORM_, USE_MY_PS):\n",
    "    PS_1 = HOD.PS_1h(k, M_min, sigma_logM, M_sat, alpha, z, crit_dens_rescaled, M_h_array, HMF_array, N_G, NCEN, NSAT) \n",
    "    PS_2 = HOD.PS_2h(k, M_min, sigma_logM, M_sat, alpha, z, crit_dens_rescaled, M_h_array, HMF_array, N_G, NCEN, NSAT, bias, hmf_k, hmf_PS, D_ratio, _PS_NORM_, USE_MY_PS)\n",
    "    PS_2_corr =  PS_2 if USE_MY_PS else hmf_PS * PS_2\n",
    "    factor = HOD.factor_k(k, _theta_/206265, comoving_distance_z)\n",
    "    return np.array((PS_1 + PS_2_corr) * factor)[0]\n",
    "\n",
    "INT_hmf, err = integrate.quad(F_k_hmf_func, 1e-3, np.inf, limit=10000, epsabs=1e-4, args = (M_min, sigma_logM, M_sat, alpha, z, crit_dens_rescaled, M_h_array, HMF_array, N_G, NCEN, NSAT, bias, hmf_k, hmf_PS, D_ratio, _PS_NORM_, USE_MY_PS))\n",
    "# INT_hmf_mpmat = mpmath.quad(F_k_hmf_func_mpmath, [0.001, mpmath.inf], period=2*np.pi)\n",
    "INT_hmf_simps = integrate.simps(F_k_hmf, k_array)\n",
    "\n",
    "print(f'Integral new: {INT_hmf:.1e}, +- {err:.1e}')\n",
    "# print(f'Integral mat: {INT_hmf_mpmat:.1e}')\n",
    "print(f'Integral old: {INT_hmf_simps:.1e}')"
   ]
  },
  {
   "cell_type": "code",
   "execution_count": 3,
   "metadata": {},
   "outputs": [
    {
     "name": "stdout",
     "output_type": "stream",
     "text": [
      "Calculating HMF table at redshift 1.20\n"
     ]
    },
    {
     "name": "stderr",
     "output_type": "stream",
     "text": [
      "/Users/giofer/Documents/GitHub/GALESS/examples/../galess/HOD.py:250: IntegrationWarning: The integral is probably divergent, or slowly convergent.\n",
      "  return integrate.quad(F_k_hmf_func_1, 1e-3, 1e5, limit=10000, epsabs=1e-3, args = (theta, M_min, sigma_logM, M_sat, alpha, z, crit_dens_rescaled, M_h_array, HMF_array, N_G, NCEN, NSAT, comoving_distance_z))[0]\n"
     ]
    },
    {
     "name": "stdout",
     "output_type": "stream",
     "text": [
      "Calculating HMF table at redshift 1.30\n",
      "Calculating HMF table at redshift 1.40\n",
      "Calculating HMF table at redshift 1.50\n",
      "Calculating HMF table at redshift 1.60\n",
      "Calculating HMF table at redshift 1.80\n",
      "Calculating HMF table at redshift 1.90\n",
      "Calculating HMF table at redshift 2.00\n",
      "Calculating HMF table at redshift 2.10\n",
      "Calculating HMF table at redshift 2.20\n"
     ]
    },
    {
     "name": "stderr",
     "output_type": "stream",
     "text": [
      "/Users/giofer/Documents/GitHub/GALESS/examples/../galess/HOD.py:250: IntegrationWarning: The occurrence of roundoff error is detected, which prevents \n",
      "  the requested tolerance from being achieved.  The error may be \n",
      "  underestimated.\n",
      "  return integrate.quad(F_k_hmf_func_1, 1e-3, 1e5, limit=10000, epsabs=1e-3, args = (theta, M_min, sigma_logM, M_sat, alpha, z, crit_dens_rescaled, M_h_array, HMF_array, N_G, NCEN, NSAT, comoving_distance_z))[0]\n"
     ]
    },
    {
     "ename": "TypeError",
     "evalue": "only length-1 arrays can be converted to Python scalars",
     "output_type": "error",
     "traceback": [
      "\u001b[0;31m---------------------------------------------------------------------------\u001b[0m",
      "\u001b[0;31mTypeError\u001b[0m                                 Traceback (most recent call last)",
      "\u001b[1;32m/Users/giofer/Documents/GitHub/GALESS/examples/HOD_test.ipynb Cell 6\u001b[0m line \u001b[0;36m7\n\u001b[1;32m     <a href='vscode-notebook-cell:/Users/giofer/Documents/GitHub/GALESS/examples/HOD_test.ipynb#X13sZmlsZQ%3D%3D?line=72'>73</a>\u001b[0m factor_z \u001b[39m=\u001b[39m  np\u001b[39m.\u001b[39mpower(np\u001b[39m.\u001b[39marray(N_z_nrm), \u001b[39m2\u001b[39m) \u001b[39m/\u001b[39m (c_light \u001b[39m/\u001b[39m np\u001b[39m.\u001b[39marray(H_z))\n\u001b[1;32m     <a href='vscode-notebook-cell:/Users/giofer/Documents/GitHub/GALESS/examples/HOD_test.ipynb#X13sZmlsZQ%3D%3D?line=74'>75</a>\u001b[0m intg1 \u001b[39m=\u001b[39m [HOD\u001b[39m.\u001b[39momega_z_component_1(z, _theta_\u001b[39m/\u001b[39m\u001b[39m206265\u001b[39m, M_min, sigma_logM, M_sat, alpha, NCEN, NSAT, _PS_NORM_, USE_MY_PS \u001b[39m=\u001b[39m \u001b[39m0\u001b[39m, REWRITE_TBLS \u001b[39m=\u001b[39m \u001b[39mFalse\u001b[39;00m) \u001b[39mfor\u001b[39;00m z \u001b[39min\u001b[39;00m z_array]    \n\u001b[0;32m---> <a href='vscode-notebook-cell:/Users/giofer/Documents/GitHub/GALESS/examples/HOD_test.ipynb#X13sZmlsZQ%3D%3D?line=75'>76</a>\u001b[0m intg2 \u001b[39m=\u001b[39m [HOD\u001b[39m.\u001b[39;49momega_z_component_2(z, _theta_\u001b[39m/\u001b[39;49m\u001b[39m206265\u001b[39;49m, M_min, sigma_logM, M_sat, alpha, NCEN, NSAT, _PS_NORM_, USE_MY_PS \u001b[39m=\u001b[39;49m \u001b[39m0\u001b[39;49m, REWRITE_TBLS \u001b[39m=\u001b[39;49m \u001b[39mFalse\u001b[39;49;00m) \u001b[39mfor\u001b[39;49;00m z \u001b[39min\u001b[39;49;00m z_array]    \n\u001b[1;32m     <a href='vscode-notebook-cell:/Users/giofer/Documents/GitHub/GALESS/examples/HOD_test.ipynb#X13sZmlsZQ%3D%3D?line=76'>77</a>\u001b[0m intg1_hmf, intg2_hmf \u001b[39m=\u001b[39m np\u001b[39m.\u001b[39marray(intg1), np\u001b[39m.\u001b[39marray(intg2)\n\u001b[1;32m     <a href='vscode-notebook-cell:/Users/giofer/Documents/GitHub/GALESS/examples/HOD_test.ipynb#X13sZmlsZQ%3D%3D?line=77'>78</a>\u001b[0m OM1_hmf, OM2_hmf \u001b[39m=\u001b[39m np\u001b[39m.\u001b[39mtrapz(intg1_hmf \u001b[39m*\u001b[39m factor_z, z_array), np\u001b[39m.\u001b[39mtrapz(intg2_hmf \u001b[39m*\u001b[39m factor_z, z_array)\n",
      "\u001b[1;32m/Users/giofer/Documents/GitHub/GALESS/examples/HOD_test.ipynb Cell 6\u001b[0m line \u001b[0;36m7\n\u001b[1;32m     <a href='vscode-notebook-cell:/Users/giofer/Documents/GitHub/GALESS/examples/HOD_test.ipynb#X13sZmlsZQ%3D%3D?line=72'>73</a>\u001b[0m factor_z \u001b[39m=\u001b[39m  np\u001b[39m.\u001b[39mpower(np\u001b[39m.\u001b[39marray(N_z_nrm), \u001b[39m2\u001b[39m) \u001b[39m/\u001b[39m (c_light \u001b[39m/\u001b[39m np\u001b[39m.\u001b[39marray(H_z))\n\u001b[1;32m     <a href='vscode-notebook-cell:/Users/giofer/Documents/GitHub/GALESS/examples/HOD_test.ipynb#X13sZmlsZQ%3D%3D?line=74'>75</a>\u001b[0m intg1 \u001b[39m=\u001b[39m [HOD\u001b[39m.\u001b[39momega_z_component_1(z, _theta_\u001b[39m/\u001b[39m\u001b[39m206265\u001b[39m, M_min, sigma_logM, M_sat, alpha, NCEN, NSAT, _PS_NORM_, USE_MY_PS \u001b[39m=\u001b[39m \u001b[39m0\u001b[39m, REWRITE_TBLS \u001b[39m=\u001b[39m \u001b[39mFalse\u001b[39;00m) \u001b[39mfor\u001b[39;00m z \u001b[39min\u001b[39;00m z_array]    \n\u001b[0;32m---> <a href='vscode-notebook-cell:/Users/giofer/Documents/GitHub/GALESS/examples/HOD_test.ipynb#X13sZmlsZQ%3D%3D?line=75'>76</a>\u001b[0m intg2 \u001b[39m=\u001b[39m [HOD\u001b[39m.\u001b[39;49momega_z_component_2(z, _theta_\u001b[39m/\u001b[39;49m\u001b[39m206265\u001b[39;49m, M_min, sigma_logM, M_sat, alpha, NCEN, NSAT, _PS_NORM_, USE_MY_PS \u001b[39m=\u001b[39;49m \u001b[39m0\u001b[39;49m, REWRITE_TBLS \u001b[39m=\u001b[39;49m \u001b[39mFalse\u001b[39;49;00m) \u001b[39mfor\u001b[39;00m z \u001b[39min\u001b[39;00m z_array]    \n\u001b[1;32m     <a href='vscode-notebook-cell:/Users/giofer/Documents/GitHub/GALESS/examples/HOD_test.ipynb#X13sZmlsZQ%3D%3D?line=76'>77</a>\u001b[0m intg1_hmf, intg2_hmf \u001b[39m=\u001b[39m np\u001b[39m.\u001b[39marray(intg1), np\u001b[39m.\u001b[39marray(intg2)\n\u001b[1;32m     <a href='vscode-notebook-cell:/Users/giofer/Documents/GitHub/GALESS/examples/HOD_test.ipynb#X13sZmlsZQ%3D%3D?line=77'>78</a>\u001b[0m OM1_hmf, OM2_hmf \u001b[39m=\u001b[39m np\u001b[39m.\u001b[39mtrapz(intg1_hmf \u001b[39m*\u001b[39m factor_z, z_array), np\u001b[39m.\u001b[39mtrapz(intg2_hmf \u001b[39m*\u001b[39m factor_z, z_array)\n",
      "File \u001b[0;32m~/Documents/GitHub/GALESS/examples/../galess/HOD.py:283\u001b[0m, in \u001b[0;36momega_z_component_2\u001b[0;34m(z, theta, M_min, sigma_logM, M_sat, alpha, NCEN, NSAT, _PS_NORM_, USE_MY_PS, REWRITE_TBLS)\u001b[0m\n\u001b[1;32m    281\u001b[0m comoving_distance_z \u001b[39m=\u001b[39m cosmo\u001b[39m.\u001b[39mcomoving_distance(z)\u001b[39m.\u001b[39mvalue\n\u001b[1;32m    282\u001b[0m crit_dens_rescaled \u001b[39m=\u001b[39m (\u001b[39m4\u001b[39m\u001b[39m/\u001b[39m\u001b[39m3\u001b[39m\u001b[39m*\u001b[39mnp\u001b[39m.\u001b[39mpi\u001b[39m*\u001b[39mcosmo\u001b[39m.\u001b[39mcritical_density(z)\u001b[39m.\u001b[39mvalue\u001b[39m*\u001b[39m\u001b[39m200\u001b[39m\u001b[39m*\u001b[39m\u001b[39m2e40\u001b[39m)\n\u001b[0;32m--> 283\u001b[0m \u001b[39mreturn\u001b[39;00m omega_inner_integral_2(theta, M_min, sigma_logM, M_sat, alpha, z, comoving_distance_z, crit_dens_rescaled, M_h_array, HMF_array, N_G, NCEN, NSAT, \n\u001b[1;32m    284\u001b[0m                             bias, hmf_k, hmf_PS, _PS_NORM_, D_ratio, USE_MY_PS)\n",
      "File \u001b[0;32m~/Documents/GitHub/GALESS/examples/../galess/HOD.py:265\u001b[0m, in \u001b[0;36momega_inner_integral_2\u001b[0;34m(theta, M_min, sigma_logM, M_sat, alpha, z, comoving_distance_z, crit_dens_rescaled, M_h_array, HMF_array, N_G, NCEN, NSAT, bias, hmf_k, hmf_PS, _PS_NORM_, D_ratio, USE_MY_PS)\u001b[0m\n\u001b[1;32m    262\u001b[0m PS_2_corr \u001b[39m=\u001b[39m  np\u001b[39m.\u001b[39marray(PS_2) \u001b[39mif\u001b[39;00m USE_MY_PS \u001b[39melse\u001b[39;00m hmf_PS \u001b[39m*\u001b[39m np\u001b[39m.\u001b[39marray(PS_2)\n\u001b[1;32m    263\u001b[0m \u001b[39m# return np.sum(k_array * PS_2_corr * factor) * dlogk\u001b[39;00m\n\u001b[1;32m    264\u001b[0m \u001b[39m# return np.trapz(np.array(PS_2_corr) * factor, k_array)\u001b[39;00m\n\u001b[0;32m--> 265\u001b[0m \u001b[39mreturn\u001b[39;00m integrate\u001b[39m.\u001b[39;49mquad(F_k_hmf_func_2, \u001b[39m1e-3\u001b[39;49m, \u001b[39m1e5\u001b[39;49m, limit\u001b[39m=\u001b[39;49m\u001b[39m10000\u001b[39;49m, epsabs\u001b[39m=\u001b[39;49m\u001b[39m1e-3\u001b[39;49m, args \u001b[39m=\u001b[39;49m (theta, M_min, sigma_logM, M_sat, alpha, z, crit_dens_rescaled, M_h_array, HMF_array, N_G, NCEN, NSAT, bias, hmf_k, hmf_PS, D_ratio, _PS_NORM_, comoving_distance_z, USE_MY_PS))[\u001b[39m0\u001b[39m]\n",
      "File \u001b[0;32m~/anaconda3/envs/HOD/lib/python3.11/site-packages/scipy/integrate/_quadpack_py.py:463\u001b[0m, in \u001b[0;36mquad\u001b[0;34m(func, a, b, args, full_output, epsabs, epsrel, limit, points, weight, wvar, wopts, maxp1, limlst, complex_func)\u001b[0m\n\u001b[1;32m    460\u001b[0m     \u001b[39mreturn\u001b[39;00m retval\n\u001b[1;32m    462\u001b[0m \u001b[39mif\u001b[39;00m weight \u001b[39mis\u001b[39;00m \u001b[39mNone\u001b[39;00m:\n\u001b[0;32m--> 463\u001b[0m     retval \u001b[39m=\u001b[39m _quad(func, a, b, args, full_output, epsabs, epsrel, limit,\n\u001b[1;32m    464\u001b[0m                    points)\n\u001b[1;32m    465\u001b[0m \u001b[39melse\u001b[39;00m:\n\u001b[1;32m    466\u001b[0m     \u001b[39mif\u001b[39;00m points \u001b[39mis\u001b[39;00m \u001b[39mnot\u001b[39;00m \u001b[39mNone\u001b[39;00m:\n",
      "File \u001b[0;32m~/anaconda3/envs/HOD/lib/python3.11/site-packages/scipy/integrate/_quadpack_py.py:575\u001b[0m, in \u001b[0;36m_quad\u001b[0;34m(func, a, b, args, full_output, epsabs, epsrel, limit, points)\u001b[0m\n\u001b[1;32m    573\u001b[0m \u001b[39mif\u001b[39;00m points \u001b[39mis\u001b[39;00m \u001b[39mNone\u001b[39;00m:\n\u001b[1;32m    574\u001b[0m     \u001b[39mif\u001b[39;00m infbounds \u001b[39m==\u001b[39m \u001b[39m0\u001b[39m:\n\u001b[0;32m--> 575\u001b[0m         \u001b[39mreturn\u001b[39;00m _quadpack\u001b[39m.\u001b[39;49m_qagse(func,a,b,args,full_output,epsabs,epsrel,limit)\n\u001b[1;32m    576\u001b[0m     \u001b[39melse\u001b[39;00m:\n\u001b[1;32m    577\u001b[0m         \u001b[39mreturn\u001b[39;00m _quadpack\u001b[39m.\u001b[39m_qagie(func,bound,infbounds,args,full_output,epsabs,epsrel,limit)\n",
      "File \u001b[0;32m~/Documents/GitHub/GALESS/examples/../galess/HOD.py:236\u001b[0m, in \u001b[0;36mF_k_hmf_func_2\u001b[0;34m(k, theta, M_min, sigma_logM, M_sat, alpha, z, crit_dens_rescaled, M_h_array, HMF_array, N_G, NCEN, NSAT, bias, hmf_k, hmf_PS, D_ratio, _PS_NORM_, comoving_distance_z, USE_MY_PS)\u001b[0m\n\u001b[1;32m    234\u001b[0m PS_2_corr \u001b[39m=\u001b[39m  PS_2 \u001b[39mif\u001b[39;00m USE_MY_PS \u001b[39melse\u001b[39;00m hmf_PS \u001b[39m*\u001b[39m PS_2\n\u001b[1;32m    235\u001b[0m factor \u001b[39m=\u001b[39m factor_k(k, theta, comoving_distance_z)\n\u001b[0;32m--> 236\u001b[0m \u001b[39mreturn\u001b[39;00m \u001b[39mfloat\u001b[39;49m(PS_2_corr \u001b[39m*\u001b[39;49m factor)\n",
      "\u001b[0;31mTypeError\u001b[0m: only length-1 arrays can be converted to Python scalars"
     ]
    },
    {
     "data": {
      "image/png": "[encoded data removed]",
      "text/plain": [
       "<Figure size 1100x500 with 2 Axes>"
      ]
     },
     "metadata": {},
     "output_type": "display_data"
    }
   ],
   "source": [
    "from scipy import integrate\n",
    "from scipy import special\n",
    "import mpmath\n",
    "from hmf import MassFunction\n",
    "from halomod.bias import Tinker10\n",
    "from astropy.cosmology import FlatLambdaCDM\n",
    "cosmo  = FlatLambdaCDM(H0=67.74, Om0=0.3089, Tcmb0=2.725)\n",
    "OmegaM = cosmo.Om(0)\n",
    "OmegaL = cosmo.Ode(0)\n",
    "OmegaK = cosmo.Ok(0)\n",
    "OmegaB = 0.049\n",
    "OmegaC = OmegaM-OmegaB\n",
    "H0 = cosmo.H(0).value\n",
    "h  = H0/100\n",
    "c_light  = 299792.458\n",
    "\n",
    "_PS_NORM_ = HOD.norm_power_spectrum()\n",
    "M_h_array, HMF_array, nu_array, hmf_k, hmf_PS = HOD.init_lookup_table(z, REWRITE_TBLS=False)\n",
    "NCEN = HOD.N_cen(M_h_array, M_min, sigma_logM)\n",
    "NSAT = HOD.N_sat(M_h_array, M_sat, alpha, M_min, sigma_logM)\n",
    "D_ratio   = (HOD.D_growth_factor(z)/HOD.D_growth_factor(0))**2 if z != 0 else 1\n",
    "bias = Tinker10(nu=nu_array).bias() if 1 else HOD.halo_bias_TINKER(nu_array)\n",
    "N_G  = HOD.n_g(M_min, sigma_logM, M_sat, alpha, z, M_h_array, HMF_array)\n",
    "comoving_distance_z = cosmo.comoving_distance(z).value\n",
    "crit_dens_rescaled = (4/3*np.pi*cosmo.critical_density(z).value*200*2e40)\n",
    "\n",
    "USE_MY_PS = 0\n",
    "if (USE_MY_PS): \n",
    "    k_array = np.logspace(-3, 3, 2000)\n",
    "    dlogk = np.log(k_array[1]/k_array[0])\n",
    "else:\n",
    "    k_array = hmf_k\n",
    "    dlogk = np.log(hmf_k[1]/hmf_k[0])\n",
    "PS_1 = [HOD.PS_1h(k, M_min, sigma_logM, M_sat, alpha, z, crit_dens_rescaled, M_h_array, HMF_array, N_G, NCEN, NSAT) for k in k_array]\n",
    "PS_2 = [HOD.PS_2h(k, M_min, sigma_logM, M_sat, alpha, z, crit_dens_rescaled, M_h_array, HMF_array, N_G, NCEN, NSAT, bias, hmf_k, hmf_PS, D_ratio, _PS_NORM_, USE_MY_PS) for k in k_array]\n",
    "PS_2_corr =  np.array(PS_2) if USE_MY_PS else hmf_PS * np.array(PS_2)\n",
    "factor = np.array([HOD.factor_k(k, _theta_/206265, comoving_distance_z) for k in k_array])\n",
    "F_k_hmf = (np.array(PS_1) + PS_2_corr) * factor\n",
    "INT_hmf = 1#mpmath.quadosc(F_k_hmf, [0.001, mpmath.inf], period=2*np.pi)\n",
    "INT_hmf_simps = integrate.simps(F_k_hmf, k_array)\n",
    "\n",
    "\n",
    "USE_MY_PS = 1\n",
    "if (USE_MY_PS): \n",
    "    k_array = np.logspace(-3, 3, 2000)\n",
    "    dlogk = np.log(k_array[1]/k_array[0])\n",
    "else:\n",
    "    k_array = hmf_k\n",
    "    dlogk = np.log(hmf_k[1]/hmf_k[0])\n",
    "PS_1 = [HOD.PS_1h(k, M_min, sigma_logM, M_sat, alpha, z, crit_dens_rescaled, M_h_array, HMF_array, N_G, NCEN, NSAT) for k in k_array]\n",
    "PS_2 = [HOD.PS_2h(k, M_min, sigma_logM, M_sat, alpha, z, crit_dens_rescaled, M_h_array, HMF_array, N_G, NCEN, NSAT, bias, hmf_k, hmf_PS, D_ratio, _PS_NORM_, USE_MY_PS) for k in k_array]\n",
    "PS_2_corr =  np.array(PS_2) if USE_MY_PS else hmf_PS * np.array(PS_2)\n",
    "factor = np.array([HOD.factor_k(k, _theta_/206265, comoving_distance_z) for k in k_array])\n",
    "F_k_anl = (np.array(PS_1) + PS_2_corr) * factor\n",
    "\n",
    "def Integrand_k(k, theta, comoving_distance_z):\n",
    "    k / (2*np.pi) * special.j0(k * theta * comoving_distance_z)\n",
    "\n",
    "INT_anl = 1#mpmath.quadosc(F_k_anl, [0.001, mpmath.inf], period=2*np.pi)\n",
    "INT_anl_simps = integrate.simps(F_k_anl, k_array)\n",
    "\n",
    "fig, ax = plt.subplots(1, 2, figsize=(11, 5), sharex=False, sharey=False)\n",
    "plt.subplots_adjust(wspace=.23, hspace=.2)\n",
    "ax[0].plot(hmf_k, F_k_hmf, c = 'c', ls = '-', label = 'NL: '+str(int(INT_hmf))+'; '+str(int(INT_hmf_simps)))\n",
    "ax[0].plot(k_array, F_k_anl, c = 'm', ls = '--', label = 'LN: '+str(int(INT_anl))+'; '+str(int(INT_anl_simps)))\n",
    "ax[0].set_xscale('log')\n",
    "ax[0].set_yscale('log')\n",
    "ax[0].set_xlim((1e-3, 1e2))\n",
    "ax[0].set_ylim((3e-1, 3e4))\n",
    "ax[0].legend(title=f'z = {z}, theta = {_theta_}')\n",
    "\n",
    "H_z = [cosmo.H(z).value for z in z_array]\n",
    "factor_z =  np.power(np.array(N_z_nrm), 2) / (c_light / np.array(H_z))\n",
    "\n",
    "intg1 = [HOD.omega_z_component_1(z, _theta_/206265, M_min, sigma_logM, M_sat, alpha, NCEN, NSAT, _PS_NORM_, USE_MY_PS = 0, REWRITE_TBLS = False) for z in z_array]    \n",
    "intg2 = [HOD.omega_z_component_2(z, _theta_/206265, M_min, sigma_logM, M_sat, alpha, NCEN, NSAT, _PS_NORM_, USE_MY_PS = 0, REWRITE_TBLS = False) for z in z_array]    \n",
    "intg1_hmf, intg2_hmf = np.array(intg1), np.array(intg2)\n",
    "OM1_hmf, OM2_hmf = np.trapz(intg1_hmf * factor_z, z_array), np.trapz(intg2_hmf * factor_z, z_array)\n",
    "\n",
    "intg1 = [HOD.omega_z_component_1(z, _theta_/206265, M_min, sigma_logM, M_sat, alpha, NCEN, NSAT, _PS_NORM_, USE_MY_PS = 1, REWRITE_TBLS = False) for z in z_array]    \n",
    "intg2 = [HOD.omega_z_component_2(z, _theta_/206265, M_min, sigma_logM, M_sat, alpha, NCEN, NSAT, _PS_NORM_, USE_MY_PS = 1, REWRITE_TBLS = False) for z in z_array]    \n",
    "intg1_anl, intg2_anl = np.array(intg1), np.array(intg2)\n",
    "OM1_anl, OM2_anl = np.trapz(intg1_anl * factor_z, z_array), np.trapz(intg2_anl * factor_z, z_array)\n",
    "\n",
    "ax[1].plot(z_array, intg1_hmf * factor_z, c = 'c', ls = '-'     , label = f'NL 1: {OM1_hmf:.1e}')\n",
    "ax[1].plot(z_array, intg2_hmf * factor_z, c = 'lime', ls = '-'  , label = f'NL 2: {OM2_hmf:.1e}')\n",
    "ax[1].plot(z_array, intg1_anl * factor_z, c = 'm', ls = ':'     , label = f'LN 1: {OM1_anl:.1e}')\n",
    "ax[1].plot(z_array, intg2_anl * factor_z, c = 'orange', ls = ':', label = f'LN 2: {OM2_anl:.1e}')\n",
    "ax[1].legend()\n",
    "plt.show()\n"
   ]
  },
  {
   "cell_type": "code",
   "execution_count": 4,
   "metadata": {},
   "outputs": [
    {
     "name": "stdout",
     "output_type": "stream",
     "text": [
      "redshift z   : 1.70\n",
      "n_avg        : 6.16e-03\n",
      "N_g_AVG      : 6.30e-03\n",
      "log(M_h_AVG) : 12.46\n",
      "b_eff        : 1.84\n",
      "log(f_sat)   : -0.56\n",
      "ln(f_sat)    : -1.28\n"
     ]
    }
   ],
   "source": [
    "if(0):\n",
    "    z = 1.7\n",
    "    M_sat, M_min, sigma_logM, alpha = 10**14.18, 10**12.46, 0.2, 1.0\n",
    "    z_array = np.array([1.2, 1.3, 1.4, 1.5, 1.6, 1.7, 1.8, 1.9, 2.0, 2.1, 2.2])\n",
    "    N_z_nrm = np.array([0.0, 1.0, 1.0, 1.0, 1.0, 1.0, 1.0, 1.0, 1.0, 1.0, 0.0])\n",
    "elif(1):\n",
    "    z = 1.7\n",
    "    M_sat, M_min, sigma_logM, alpha = 10**12.48, 10**11.55, 0.2, 1.0\n",
    "    z_array = np.array([1.2, 1.3, 1.4, 1.5, 1.6, 1.7, 1.8, 1.9, 2.0, 2.1, 2.2])\n",
    "    N_z_nrm = np.array([0.0, 1.0, 1.0, 1.0, 1.0, 1.0, 1.0, 1.0, 1.0, 1.0, 0.0])\n",
    "\n",
    "elif(0):\n",
    "    z = 2.9\n",
    "    M_sat, M_min, sigma_logM, alpha = 10**12.55, 10**11.71, 0.2, 1.0\n",
    "    data = [\n",
    "            [2.000000e+00, 2.017570e-02],\n",
    "            [2.100000e+00, 5.120140e-02],\n",
    "            [2.200000e+00, 8.963850e-02],\n",
    "            [2.300000e+00, 1.257240e-01],\n",
    "            [2.400000e+00, 1.558000e-01],\n",
    "            [2.500000e+00, 2.025050e-01],\n",
    "            [2.600000e+00, 2.320880e-01],\n",
    "            [2.700000e+00, 3.334470e-01],\n",
    "            [2.800000e+00, 3.349540e-01],\n",
    "            [2.900000e+00, 4.237170e-01],\n",
    "            [3.000000e+00, 4.196420e-01],\n",
    "            [3.100000e+00, 4.230910e-01],\n",
    "            [3.200000e+00, 4.523410e-01],\n",
    "            [3.300000e+00, 3.643720e-01],\n",
    "            [3.400000e+00, 1.837830e-01],\n",
    "            [3.500000e+00, 4.229380e-02],\n",
    "            [3.600000e+00, 3.679960e-02],\n",
    "            [3.700000e+00, 3.273170e-02],\n",
    "            [3.800000e+00, 5.401130e-02],\n",
    "            [3.900000e+00, 2.088890e-02],\n",
    "            [4.000000e+00, 1.080040e-02]\n",
    "            ]\n",
    "    z_array = np.array([row[0] for row in data])\n",
    "    N_z_nrm = np.array([row[1] for row in data])\n",
    "elif(0):\n",
    "    z = 4.9\n",
    "    M_sat, M_min, sigma_logM, alpha = 10**11.86, 10**11.57, 0.2, 1.0\n",
    "    data = [\n",
    "    (4.300000e+00, 1.300650e-02),\n",
    "    (4.400000e+00, 1.332110e-02),\n",
    "    (4.500000e+00, 1.609830e-01),\n",
    "    (4.600000e+00, 1.659040e-01),\n",
    "    (4.700000e+00, 3.460340e-01),\n",
    "    (4.800000e+00, 2.671030e-01),\n",
    "    (4.900000e+00, 2.569500e-01),\n",
    "    (5.000000e+00, 1.880120e-01),\n",
    "    (5.100000e+00, 1.704260e-01),\n",
    "    (5.200000e+00, 1.871200e-01),\n",
    "    (5.300000e+00, 7.831920e-02)\n",
    "    ]\n",
    "    z_array, N_z_nrm = np.array(data).T\n",
    "else:\n",
    "    z = 5.9\n",
    "    M_sat, M_min, sigma_logM, alpha = 10**13.73, 10**12.09, 0.2, 1.0\n",
    "    data = [\n",
    "    (5.500000e+00, 2.321580e-02),\n",
    "    (5.600000e+00, 5.284060e-02),\n",
    "    (5.700000e+00, 1.436010e-01),\n",
    "    (5.800000e+00, 1.481370e-01),\n",
    "    (5.900000e+00, 1.036900e-01),\n",
    "    (6.000000e+00, 1.342000e-01),\n",
    "    (6.100000e+00, 2.453660e-01),\n",
    "    (6.200000e+00, 1.546640e-01),\n",
    "    (6.300000e+00, 1.127430e-02)\n",
    "    ]\n",
    "    z_array, N_z_nrm = np.array(data).T\n",
    "\n",
    "M_h_array, HMF_array, nu_array, hmf_k, hmf_PS = HOD.init_lookup_table(z)\n",
    "NTOT = HOD.N_tot(M_h_array, M_sat, alpha, M_min, sigma_logM)\n",
    "N_g_AVG = HOD.get_AVG_N_tot(M_min, sigma_logM, M_sat, alpha, z)\n",
    "M_h_AVG = HOD.get_AVG_Host_Halo_Mass(M_min, sigma_logM, M_sat, alpha, z)\n",
    "b_eff = HOD.get_EFF_gal_bias(M_min, sigma_logM, M_sat, alpha, z, USE_MY_BIAS = 0)\n",
    "f_sat = HOD.get_AVG_f_sat(M_min, sigma_logM, M_sat, alpha, z)\n",
    "n_avg = HOD.get_N_dens_avg(z_array, M_min, sigma_logM, M_sat, alpha, z, N_z_nrm)\n",
    "\n",
    "print(f'redshift z   : {z:.2f}')\n",
    "print(f'n_avg        : {n_avg:.2e}')\n",
    "print(f'N_g_AVG      : {N_g_AVG:.2e}')\n",
    "print(f'log(M_h_AVG) : {np.log10(M_h_AVG):.2f}')\n",
    "print(f'b_eff        : {b_eff:.2f}')\n",
    "print(f'log(f_sat)   : {np.log10(f_sat):.2f}')\n",
    "print(f'ln(f_sat)    : {np.log(f_sat):.2f}')"
   ]
  },
  {
   "cell_type": "code",
   "execution_count": 5,
   "metadata": {},
   "outputs": [
    {
     "data": {
      "application/vnd.jupyter.widget-view+json": {
       "model_id": "83d81d0076cb42b9bd0b5c3847f5a8d6",
       "version_major": 2,
       "version_minor": 0
      },
      "text/plain": [
       "  0%|          | 0/7 [00:00<?, ?it/s]"
      ]
     },
     "metadata": {},
     "output_type": "display_data"
    },
    {
     "name": "stdout",
     "output_type": "stream",
     "text": [
      "Calculating HMF table at redshift 0.00\n"
     ]
    },
    {
     "ename": "TypeError",
     "evalue": "only length-1 arrays can be converted to Python scalars",
     "output_type": "error",
     "traceback": [
      "\u001b[0;31m---------------------------------------------------------------------------\u001b[0m",
      "\u001b[0;31mTypeError\u001b[0m                                 Traceback (most recent call last)",
      "\u001b[1;32m/Users/giofer/Documents/GitHub/GALESS/examples/HOD_test.ipynb Cell 8\u001b[0m line \u001b[0;36m3\n\u001b[1;32m      <a href='vscode-notebook-cell:/Users/giofer/Documents/GitHub/GALESS/examples/HOD_test.ipynb#W2sZmlsZQ%3D%3D?line=0'>1</a>\u001b[0m _theta_arcsec \u001b[39m=\u001b[39m np\u001b[39m.\u001b[39mlogspace(\u001b[39m-\u001b[39m\u001b[39m0.5\u001b[39m, \u001b[39m3.5\u001b[39m, \u001b[39m7\u001b[39m)\n\u001b[1;32m      <a href='vscode-notebook-cell:/Users/giofer/Documents/GitHub/GALESS/examples/HOD_test.ipynb#W2sZmlsZQ%3D%3D?line=1'>2</a>\u001b[0m theta \u001b[39m=\u001b[39m _theta_arcsec \u001b[39m*\u001b[39m \u001b[39m1\u001b[39m\u001b[39m/\u001b[39m\u001b[39m206265\u001b[39m \u001b[39m# 1 arcsec in rad\u001b[39;00m\n\u001b[0;32m----> <a href='vscode-notebook-cell:/Users/giofer/Documents/GitHub/GALESS/examples/HOD_test.ipynb#W2sZmlsZQ%3D%3D?line=2'>3</a>\u001b[0m omega1h, omega2h \u001b[39m=\u001b[39m HOD\u001b[39m.\u001b[39;49momega_array(theta, M_min, sigma_logM, M_sat, alpha, N_z_nrm, z_array, USE_MY_PS \u001b[39m=\u001b[39;49m \u001b[39mFalse\u001b[39;49;00m, REWRITE_TBLS \u001b[39m=\u001b[39;49m \u001b[39mFalse\u001b[39;49;00m)\n",
      "File \u001b[0;32m~/Documents/GitHub/GALESS/examples/../galess/HOD.py:300\u001b[0m, in \u001b[0;36momega_array\u001b[0;34m(theta, M_min, sigma_logM, M_sat, alpha, N_z_nrm, z_array, USE_MY_PS, REWRITE_TBLS)\u001b[0m\n\u001b[1;32m    298\u001b[0m omega1h, omega2h \u001b[39m=\u001b[39m np\u001b[39m.\u001b[39mzeros(\u001b[39m0\u001b[39m), np\u001b[39m.\u001b[39mzeros(\u001b[39m0\u001b[39m)\n\u001b[1;32m    299\u001b[0m \u001b[39mfor\u001b[39;00m tht \u001b[39min\u001b[39;00m tqdm(theta):\n\u001b[0;32m--> 300\u001b[0m     o_1h, o_2h \u001b[39m=\u001b[39m omega(tht, M_min, sigma_logM, M_sat, alpha, N_z_nrm, z_array, USE_MY_PS \u001b[39m=\u001b[39;49m USE_MY_PS, REWRITE_TBLS\u001b[39m=\u001b[39;49mREWRITE_TBLS)\n\u001b[1;32m    301\u001b[0m     omega1h, omega2h \u001b[39m=\u001b[39m np\u001b[39m.\u001b[39mappend(omega1h, o_1h), np\u001b[39m.\u001b[39mappend(omega2h, o_2h)\n\u001b[1;32m    302\u001b[0m omega1h[omega1h\u001b[39m<\u001b[39m\u001b[39m0\u001b[39m] \u001b[39m=\u001b[39m \u001b[39m0\u001b[39m\n",
      "File \u001b[0;32m~/Documents/GitHub/GALESS/examples/../galess/HOD.py:294\u001b[0m, in \u001b[0;36momega\u001b[0;34m(theta, M_min, sigma_logM, M_sat, alpha, N_z_nrm, z_array, USE_MY_PS, REWRITE_TBLS)\u001b[0m\n\u001b[1;32m    292\u001b[0m factor_z \u001b[39m=\u001b[39m  np\u001b[39m.\u001b[39mpower(np\u001b[39m.\u001b[39marray(N_z_nrm), \u001b[39m2\u001b[39m) \u001b[39m/\u001b[39m (c_light \u001b[39m/\u001b[39m np\u001b[39m.\u001b[39marray(H_z))\n\u001b[1;32m    293\u001b[0m intg1 \u001b[39m=\u001b[39m [omega_z_component_1(z, theta, M_min, sigma_logM, M_sat, alpha, NCEN, NSAT, _PS_NORM_, USE_MY_PS \u001b[39m=\u001b[39m USE_MY_PS, REWRITE_TBLS \u001b[39m=\u001b[39m REWRITE_TBLS) \u001b[39mfor\u001b[39;00m z \u001b[39min\u001b[39;00m z_array]    \n\u001b[0;32m--> 294\u001b[0m intg2 \u001b[39m=\u001b[39m [omega_z_component_2(z, theta, M_min, sigma_logM, M_sat, alpha, NCEN, NSAT, _PS_NORM_, USE_MY_PS \u001b[39m=\u001b[39;49m USE_MY_PS, REWRITE_TBLS \u001b[39m=\u001b[39;49m REWRITE_TBLS) \u001b[39mfor\u001b[39;49;00m z \u001b[39min\u001b[39;49;00m z_array]    \n\u001b[1;32m    295\u001b[0m \u001b[39mreturn\u001b[39;00m np\u001b[39m.\u001b[39mtrapz(np\u001b[39m.\u001b[39marray(intg1) \u001b[39m*\u001b[39m factor_z, z_array), np\u001b[39m.\u001b[39mtrapz(np\u001b[39m.\u001b[39marray(intg2) \u001b[39m*\u001b[39m factor_z, z_array)\n",
      "File \u001b[0;32m~/Documents/GitHub/GALESS/examples/../galess/HOD.py:294\u001b[0m, in \u001b[0;36m<listcomp>\u001b[0;34m(.0)\u001b[0m\n\u001b[1;32m    292\u001b[0m factor_z \u001b[39m=\u001b[39m  np\u001b[39m.\u001b[39mpower(np\u001b[39m.\u001b[39marray(N_z_nrm), \u001b[39m2\u001b[39m) \u001b[39m/\u001b[39m (c_light \u001b[39m/\u001b[39m np\u001b[39m.\u001b[39marray(H_z))\n\u001b[1;32m    293\u001b[0m intg1 \u001b[39m=\u001b[39m [omega_z_component_1(z, theta, M_min, sigma_logM, M_sat, alpha, NCEN, NSAT, _PS_NORM_, USE_MY_PS \u001b[39m=\u001b[39m USE_MY_PS, REWRITE_TBLS \u001b[39m=\u001b[39m REWRITE_TBLS) \u001b[39mfor\u001b[39;00m z \u001b[39min\u001b[39;00m z_array]    \n\u001b[0;32m--> 294\u001b[0m intg2 \u001b[39m=\u001b[39m [omega_z_component_2(z, theta, M_min, sigma_logM, M_sat, alpha, NCEN, NSAT, _PS_NORM_, USE_MY_PS \u001b[39m=\u001b[39;49m USE_MY_PS, REWRITE_TBLS \u001b[39m=\u001b[39;49m REWRITE_TBLS) \u001b[39mfor\u001b[39;00m z \u001b[39min\u001b[39;00m z_array]    \n\u001b[1;32m    295\u001b[0m \u001b[39mreturn\u001b[39;00m np\u001b[39m.\u001b[39mtrapz(np\u001b[39m.\u001b[39marray(intg1) \u001b[39m*\u001b[39m factor_z, z_array), np\u001b[39m.\u001b[39mtrapz(np\u001b[39m.\u001b[39marray(intg2) \u001b[39m*\u001b[39m factor_z, z_array)\n",
      "File \u001b[0;32m~/Documents/GitHub/GALESS/examples/../galess/HOD.py:283\u001b[0m, in \u001b[0;36momega_z_component_2\u001b[0;34m(z, theta, M_min, sigma_logM, M_sat, alpha, NCEN, NSAT, _PS_NORM_, USE_MY_PS, REWRITE_TBLS)\u001b[0m\n\u001b[1;32m    281\u001b[0m comoving_distance_z \u001b[39m=\u001b[39m cosmo\u001b[39m.\u001b[39mcomoving_distance(z)\u001b[39m.\u001b[39mvalue\n\u001b[1;32m    282\u001b[0m crit_dens_rescaled \u001b[39m=\u001b[39m (\u001b[39m4\u001b[39m\u001b[39m/\u001b[39m\u001b[39m3\u001b[39m\u001b[39m*\u001b[39mnp\u001b[39m.\u001b[39mpi\u001b[39m*\u001b[39mcosmo\u001b[39m.\u001b[39mcritical_density(z)\u001b[39m.\u001b[39mvalue\u001b[39m*\u001b[39m\u001b[39m200\u001b[39m\u001b[39m*\u001b[39m\u001b[39m2e40\u001b[39m)\n\u001b[0;32m--> 283\u001b[0m \u001b[39mreturn\u001b[39;00m omega_inner_integral_2(theta, M_min, sigma_logM, M_sat, alpha, z, comoving_distance_z, crit_dens_rescaled, M_h_array, HMF_array, N_G, NCEN, NSAT, \n\u001b[1;32m    284\u001b[0m                             bias, hmf_k, hmf_PS, _PS_NORM_, D_ratio, USE_MY_PS)\n",
      "File \u001b[0;32m~/Documents/GitHub/GALESS/examples/../galess/HOD.py:265\u001b[0m, in \u001b[0;36momega_inner_integral_2\u001b[0;34m(theta, M_min, sigma_logM, M_sat, alpha, z, comoving_distance_z, crit_dens_rescaled, M_h_array, HMF_array, N_G, NCEN, NSAT, bias, hmf_k, hmf_PS, _PS_NORM_, D_ratio, USE_MY_PS)\u001b[0m\n\u001b[1;32m    262\u001b[0m PS_2_corr \u001b[39m=\u001b[39m  np\u001b[39m.\u001b[39marray(PS_2) \u001b[39mif\u001b[39;00m USE_MY_PS \u001b[39melse\u001b[39;00m hmf_PS \u001b[39m*\u001b[39m np\u001b[39m.\u001b[39marray(PS_2)\n\u001b[1;32m    263\u001b[0m \u001b[39m# return np.sum(k_array * PS_2_corr * factor) * dlogk\u001b[39;00m\n\u001b[1;32m    264\u001b[0m \u001b[39m# return np.trapz(np.array(PS_2_corr) * factor, k_array)\u001b[39;00m\n\u001b[0;32m--> 265\u001b[0m \u001b[39mreturn\u001b[39;00m integrate\u001b[39m.\u001b[39;49mquad(F_k_hmf_func_2, \u001b[39m1e-3\u001b[39;49m, \u001b[39m1e5\u001b[39;49m, limit\u001b[39m=\u001b[39;49m\u001b[39m10000\u001b[39;49m, epsabs\u001b[39m=\u001b[39;49m\u001b[39m1e-3\u001b[39;49m, args \u001b[39m=\u001b[39;49m (theta, M_min, sigma_logM, M_sat, alpha, z, crit_dens_rescaled, M_h_array, HMF_array, N_G, NCEN, NSAT, bias, hmf_k, hmf_PS, D_ratio, _PS_NORM_, comoving_distance_z, USE_MY_PS))[\u001b[39m0\u001b[39m]\n",
      "File \u001b[0;32m~/anaconda3/envs/HOD/lib/python3.11/site-packages/scipy/integrate/_quadpack_py.py:463\u001b[0m, in \u001b[0;36mquad\u001b[0;34m(func, a, b, args, full_output, epsabs, epsrel, limit, points, weight, wvar, wopts, maxp1, limlst, complex_func)\u001b[0m\n\u001b[1;32m    460\u001b[0m     \u001b[39mreturn\u001b[39;00m retval\n\u001b[1;32m    462\u001b[0m \u001b[39mif\u001b[39;00m weight \u001b[39mis\u001b[39;00m \u001b[39mNone\u001b[39;00m:\n\u001b[0;32m--> 463\u001b[0m     retval \u001b[39m=\u001b[39m _quad(func, a, b, args, full_output, epsabs, epsrel, limit,\n\u001b[1;32m    464\u001b[0m                    points)\n\u001b[1;32m    465\u001b[0m \u001b[39melse\u001b[39;00m:\n\u001b[1;32m    466\u001b[0m     \u001b[39mif\u001b[39;00m points \u001b[39mis\u001b[39;00m \u001b[39mnot\u001b[39;00m \u001b[39mNone\u001b[39;00m:\n",
      "File \u001b[0;32m~/anaconda3/envs/HOD/lib/python3.11/site-packages/scipy/integrate/_quadpack_py.py:575\u001b[0m, in \u001b[0;36m_quad\u001b[0;34m(func, a, b, args, full_output, epsabs, epsrel, limit, points)\u001b[0m\n\u001b[1;32m    573\u001b[0m \u001b[39mif\u001b[39;00m points \u001b[39mis\u001b[39;00m \u001b[39mNone\u001b[39;00m:\n\u001b[1;32m    574\u001b[0m     \u001b[39mif\u001b[39;00m infbounds \u001b[39m==\u001b[39m \u001b[39m0\u001b[39m:\n\u001b[0;32m--> 575\u001b[0m         \u001b[39mreturn\u001b[39;00m _quadpack\u001b[39m.\u001b[39;49m_qagse(func,a,b,args,full_output,epsabs,epsrel,limit)\n\u001b[1;32m    576\u001b[0m     \u001b[39melse\u001b[39;00m:\n\u001b[1;32m    577\u001b[0m         \u001b[39mreturn\u001b[39;00m _quadpack\u001b[39m.\u001b[39m_qagie(func,bound,infbounds,args,full_output,epsabs,epsrel,limit)\n",
      "File \u001b[0;32m~/Documents/GitHub/GALESS/examples/../galess/HOD.py:236\u001b[0m, in \u001b[0;36mF_k_hmf_func_2\u001b[0;34m(k, theta, M_min, sigma_logM, M_sat, alpha, z, crit_dens_rescaled, M_h_array, HMF_array, N_G, NCEN, NSAT, bias, hmf_k, hmf_PS, D_ratio, _PS_NORM_, comoving_distance_z, USE_MY_PS)\u001b[0m\n\u001b[1;32m    234\u001b[0m PS_2_corr \u001b[39m=\u001b[39m  PS_2 \u001b[39mif\u001b[39;00m USE_MY_PS \u001b[39melse\u001b[39;00m hmf_PS \u001b[39m*\u001b[39m PS_2\n\u001b[1;32m    235\u001b[0m factor \u001b[39m=\u001b[39m factor_k(k, theta, comoving_distance_z)\n\u001b[0;32m--> 236\u001b[0m \u001b[39mreturn\u001b[39;00m \u001b[39mfloat\u001b[39;49m(PS_2_corr \u001b[39m*\u001b[39;49m factor)\n",
      "\u001b[0;31mTypeError\u001b[0m: only length-1 arrays can be converted to Python scalars"
     ]
    }
   ],
   "source": [
    "_theta_arcsec = np.logspace(-0.5, 3.5, 7)\n",
    "theta = _theta_arcsec * 1/206265 # 1 arcsec in rad\n",
    "omega1h, omega2h = HOD.omega_array(theta, M_min, sigma_logM, M_sat, alpha, N_z_nrm, z_array, USE_MY_PS = False, REWRITE_TBLS = False)"
   ]
  },
  {
   "cell_type": "code",
   "execution_count": 4,
   "metadata": {},
   "outputs": [
    {
     "data": {
      "image/png": "[encoded data removed]",
      "text/plain": [
       "<Figure size 450x300 with 1 Axes>"
      ]
     },
     "metadata": {},
     "output_type": "display_data"
    }
   ],
   "source": [
    "___PLOT_FOR_KEYNOTE___ = 1\n",
    "COL = 'w' if ___PLOT_FOR_KEYNOTE___ else 'k'\n",
    "line_c, cmap_c, _col_, col_A, col_B, col_C, col_D, fn_prefix = lens_plot.set_plt_param(___PLOT_FOR_KEYNOTE___)\n",
    "fig, ax = plt.subplots(1, 1, figsize=(4.5, 3), sharex=False, sharey=False)\n",
    "ax.plot(_theta_arcsec, omega1h, c = COL,ls = '--', label=r'$\\omega_{1h}$')\n",
    "ax.plot(_theta_arcsec, omega2h, c = COL,ls = '-.', label=r'$\\omega_{2h}$')\n",
    "ax.plot(_theta_arcsec, omega1h+omega2h, c = COL,ls = '-')\n",
    "ax.set_xscale('log')\n",
    "ax.set_yscale('log')\n",
    "ax.set_xlim((0.5,2e3))\n",
    "ax.set_ylim((1e-3,4e0)) if z < 3.7 else ax.set_ylim((1e-2,4e1))\n",
    "ax.set_xlabel(r'$\\theta$ [arcsec]')\n",
    "ax.set_ylabel(r'$\\omega$($\\theta$)')\n",
    "plt.legend()\n",
    "plt.show()"
   ]
  }
 ],
 "metadata": {
  "kernelspec": {
   "display_name": "hmf",
   "language": "python",
   "name": "python3"
  },
  "language_info": {
   "codemirror_mode": {
    "name": "ipython",
    "version": 3
   },
   "file_extension": ".py",
   "mimetype": "text/x-python",
   "name": "python",
   "nbconvert_exporter": "python",
   "pygments_lexer": "ipython3",
   "version": "3.11.5"
  },
  "orig_nbformat": 4
 },
 "nbformat": 4,
 "nbformat_minor": 2
}
