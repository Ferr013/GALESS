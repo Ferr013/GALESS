{
 "cells": [
  {
   "cell_type": "code",
   "execution_count": 1,
   "metadata": {},
   "outputs": [
    {
     "name": "stdout",
     "output_type": "stream",
     "text": [
      "Intel MKL WARNING: Support of Intel(R) Streaming SIMD Extensions 4.2 (Intel(R) SSE4.2) enabled only processors has been deprecated. Intel oneAPI Math Kernel Library 2025.0 will require Intel(R) Advanced Vector Extensions (Intel(R) AVX) instructions.\n",
      "Intel MKL WARNING: Support of Intel(R) Streaming SIMD Extensions 4.2 (Intel(R) SSE4.2) enabled only processors has been deprecated. Intel oneAPI Math Kernel Library 2025.0 will require Intel(R) Advanced Vector Extensions (Intel(R) AVX) instructions.\n"
     ]
    },
    {
     "name": "stderr",
     "output_type": "stream",
     "text": [
      "/Users/giofer/anaconda3/envs/HOD/lib/python3.11/site-packages/halomod/halo_exclusion.py:18: UserWarning: Warning: Some Halo-Exclusion models have significant speedup when using Numba\n",
      "  warnings.warn(\n"
     ]
    }
   ],
   "source": [
    "import os \n",
    "import sys\n",
    "sys.path.append(\"../galess\")\n",
    "import lens_stat as ls\n",
    "import ls_utils as utils\n",
    "import lens_plot\n",
    "import HOD\n",
    "\n",
    "import numpy as np\n",
    "import matplotlib.pyplot as plt\n",
    "import matplotlib.cm as cm\n",
    "from matplotlib import colors\n",
    "from mpl_toolkits.axes_grid1 import make_axes_locatable\n",
    "h = 0.7"
   ]
  },
  {
   "cell_type": "code",
   "execution_count": 42,
   "metadata": {},
   "outputs": [
    {
     "data": {
      "text/plain": [
       "0.0031975033528795025"
      ]
     },
     "execution_count": 42,
     "metadata": {},
     "output_type": "execute_result"
    }
   ],
   "source": [
    "from scipy import integrate\n",
    "from astropy.cosmology import FlatLambdaCDM\n",
    "cosmo = FlatLambdaCDM(H0=70, Om0=0.3, Tcmb0=2.725)\n",
    "__dP_dmu_SIE1,__dP_dmu_SIE2,__dP_dmu_SIE3,__dP_dmu_SIE4,__dP_dmu_SIE1_3,__dP_dmu_SIE3_3,__dP_dmu_SIE1_4,__w1,__w2,__w3,__w4 = ls.load_weights_dP_dmu_SIE()\n",
    "\n",
    "\n",
    "def Theta_E(sigma, zl, zs):\n",
    "    v_ref = 161 #km/s per SIE = 0.9 arcsec\n",
    "    Ds = cosmo.angular_diameter_distance(zs).value\n",
    "    Dds = cosmo.angular_diameter_distance_z1z2(zl,zs).value\n",
    "    return 0.9*Dds/Ds*np.power(sigma/v_ref,2) #arcsec\n",
    "\n",
    "def Phi_vel_disp_SDSS(sigma, zl): #from Choi et al. 2007\n",
    "    from scipy.special import gamma as gammafunc\n",
    "    Phi_star = 8e-3 #Mpc^-3 * h^3\n",
    "    Phi_star = 8e-3*(cosmo.H0.value/100)**3 #Mpc^-3\n",
    "    alpha = 2.32\n",
    "    beta = 2.67\n",
    "    sigma_star = 161 #km/s\n",
    "    return Phi_star*np.power(sigma/sigma_star, alpha)*(np.exp(-np.power(sigma/sigma_star,beta))/gammafunc(alpha/beta))*(beta/sigma)\n",
    "\n",
    "def Phi_vel_disp_Mason(sigma, zl): #from Mason 2015\n",
    "    p = 0.24 #from Mason 2015\n",
    "    beta = 0.2\n",
    "    alpha_s = -0.54\n",
    "    Phi_star = 3.75*1e-3 #Mpc^-3\n",
    "    sigma_star = 216 #km/s\n",
    "    Phi_star_z = Phi_star*np.power(1+zl,-2.46)\n",
    "    sigma_z = sigma*np.power(1+zl,beta)\n",
    "    return np.log(10)*1/p*(Phi_star_z/sigma_z)*np.power(sigma/sigma_star, (1+alpha_s)/p)*np.exp(-np.power(sigma/sigma_star,1/p))\n",
    "\n",
    "def Phi_vel_disp_Geng(sigma, zl): #from Geng et al. 2021\n",
    "    from scipy.special import gamma as gammafunc\n",
    "    Phi_star = 8e-3 #Mpc^-3 * h^3\n",
    "    Phi_star = 8e-3*(cosmo.H0.value/100)**3 #Mpc^-3\n",
    "    alpha = 2.32\n",
    "    beta = 2.67\n",
    "    sigma_star = 161 #km/s\n",
    "    nu_n = -1.2\n",
    "    nu_v = 0.2\n",
    "    P = -0.88\n",
    "    Q = 0.09\n",
    "    #Phi_star_z = Phi_star*np.power(10,P*zl)\n",
    "    #sigma_star_z = sigma_star*np.power(10,Q*zl)\n",
    "    Phi_star_z = Phi_star*np.power(1+zl,nu_n)\n",
    "    sigma_star_z = sigma_star*np.power(1+zl,nu_v)\n",
    "    return Phi_star_z*np.power(sigma/sigma_star_z, alpha)*(np.exp(-np.power(sigma/sigma_star_z,beta))/gammafunc(alpha/beta))*(beta/sigma)\n",
    "\n",
    "\n",
    "def dTau_dz_dsigma(sigma, zl, zs, Phi_vel_disp = Phi_vel_disp_Mason):\n",
    "    rad_to_arcsec = 1/206265\n",
    "    c_sp = 299792.458 #km/s\n",
    "    Hz = cosmo.H(zl).value #km s^-1 Mpc^-1\n",
    "    Dd = cosmo.angular_diameter_distance(zl).value\n",
    "    Ein_R = Theta_E(sigma, zl, zs)\n",
    "    return Phi_vel_disp(sigma, zl)*np.power(1+zl,2)*(c_sp/Hz)*np.pi*np.power(Dd,2)*np.power(Ein_R,2)*(rad_to_arcsec**2)\n",
    "\n",
    "def dTau_dz(zl, zs, Phi_vel_disp = Phi_vel_disp_Mason):\n",
    "    #1-500km/s to integrate over\n",
    "    return integrate.quad(dTau_dz_dsigma, 1, 500, args=(zl, zs, Phi_vel_disp))[0]\n",
    "    \n",
    "def Tau(zs, Phi_vel_disp = Phi_vel_disp_Mason):\n",
    "    #0-zs redshift to integrate over\n",
    "    return integrate.quad(dTau_dz, 0, zs, args=(zs, Phi_vel_disp))[0]\n",
    "\n",
    "Tau(4)"
   ]
  },
  {
   "cell_type": "code",
   "execution_count": 48,
   "metadata": {},
   "outputs": [
    {
     "name": "stdout",
     "output_type": "stream",
     "text": [
      "VDF: Mason et al. 2015\n",
      "Tau at z = 4 :3.2e-03, limiting theta < 0.2\": 2.8e-05\n",
      "Tau at z = 4 :3.2e-03, limiting to naked cusp: 4.0e-05\n",
      "VDF: Geng et al. 2021\n",
      "Tau at z = 4 :1.7e-03, limiting theta < 0.2\": 2.5e-05\n",
      "Tau at z = 4 :1.7e-03, limiting to naked cusp: 2.1e-05\n"
     ]
    }
   ],
   "source": [
    "limit_ang = 0.2\n",
    "\n",
    "zs = 4\n",
    "rad_to_arcsec = 1/206265\n",
    "c_sp = 299792.458 #km/s\n",
    "Phi_vel_disp = Phi_vel_disp_Mason\n",
    "zl_arr = np.linspace(0, zs, 50)\n",
    "sg_arr = np.linspace(100, 400, 50)\n",
    "res = 0\n",
    "for zl in zl_arr:\n",
    "    Hz = cosmo.H(zl).value #km s^-1 Mpc^-1\n",
    "    Dd = cosmo.angular_diameter_distance(zl).value\n",
    "    for sigma in sg_arr:\n",
    "        Ein_R = Theta_E(sigma, zl, zs)\n",
    "        r = Phi_vel_disp(sigma, zl)*np.power(1+zl,2)*(c_sp/Hz)*np.pi*np.power(Dd,2)*np.power(Ein_R,2)*(rad_to_arcsec**2)\n",
    "        res = res + r if (Ein_R <= limit_ang) else res\n",
    "\n",
    "print('VDF: Mason et al. 2015')\n",
    "print(f'Tau at z = 4 :{Tau(4, Phi_vel_disp):.1e}, limiting theta < 0.2\": {res * np.diff(zl_arr)[0] * np.diff(sg_arr)[0]:.1e}')\n",
    "print(f'Tau at z = 4 :{Tau(4, Phi_vel_disp):.1e}, limiting to naked cusp: {Tau(4, Phi_vel_disp) * __w3:.1e}')\n",
    "\n",
    "Phi_vel_disp = Phi_vel_disp_Geng\n",
    "res = 0\n",
    "for zl in zl_arr:\n",
    "    Hz = cosmo.H(zl).value #km s^-1 Mpc^-1\n",
    "    Dd = cosmo.angular_diameter_distance(zl).value\n",
    "    for sigma in sg_arr:\n",
    "        Ein_R = Theta_E(sigma, zl, zs)\n",
    "        r = Phi_vel_disp(sigma, zl)*np.power(1+zl,2)*(c_sp/Hz)*np.pi*np.power(Dd,2)*np.power(Ein_R,2)*(rad_to_arcsec**2)\n",
    "        res = res + r if (Ein_R <= limit_ang) else res\n",
    "print('VDF: Geng et al. 2021')\n",
    "print(f'Tau at z = 4 :{Tau(4, Phi_vel_disp):.1e}, limiting theta < 0.2\": {res * np.diff(zl_arr)[0] * np.diff(sg_arr)[0]:.1e}')\n",
    "print(f'Tau at z = 4 :{Tau(4, Phi_vel_disp):.1e}, limiting to naked cusp: {Tau(4, Phi_vel_disp) * __w3:.1e}')\n",
    "\n"
   ]
  },
  {
   "cell_type": "code",
   "execution_count": 89,
   "metadata": {},
   "outputs": [
    {
     "data": {
      "image/png": "[encoded data removed]",
      "text/plain": [
       "<Figure size 640x480 with 1 Axes>"
      ]
     },
     "metadata": {},
     "output_type": "display_data"
    },
    {
     "data": {
      "image/png": "[encoded data removed]",
      "text/plain": [
       "<Figure size 640x480 with 1 Axes>"
      ]
     },
     "metadata": {},
     "output_type": "display_data"
    }
   ],
   "source": [
    "def pow_LF(M_int,zs, phi_0=0, Mstar=0):  ### Param from Bouwens 2022\n",
    "    zt = 2.42\n",
    "    phi_0 = 1\n",
    "    Mstar = -21\n",
    "    alpha = -3\n",
    "    \n",
    "    return phi_0 * np.power(10, 0.4 * (Mstar-M_int) * (alpha+1))\n",
    "\n",
    "zs = 4\n",
    "\n",
    "LF_FUNC = ls.schechter_LF\n",
    "LF_FUNC = pow_LF\n",
    "\n",
    "M_int = np.linspace(-15, -25, 100)\n",
    "LF   = LF_FUNC(M_int, zs)\n",
    "LLF1 = np.array([ls.Lensed_Point_LF_SIE(1, 1, M, LF_FUNC, zs) for M in M_int])\n",
    "LLF3 = np.array([ls.Lensed_Point_LF_SIE(3, 1, M, LF_FUNC, zs) for M in M_int])\n",
    "\n",
    "plt.plot(M_int, LF, c='k')\n",
    "plt.plot(M_int, LLF1, c='r')\n",
    "plt.plot(M_int, LLF3, c='g')\n",
    "plt.yscale('log')\n",
    "plt.xlim((-14,-24))\n",
    "plt.ylim((1e-6,1))\n",
    "plt.show()\n",
    "\n",
    "plt.plot(M_int, LLF1/LF, c='r')\n",
    "plt.plot(M_int, LLF3/LF, c='g')\n",
    "plt.yscale('log')\n",
    "plt.xlim((-14,-24))\n",
    "plt.ylim((1,1e5))\n",
    "plt.show()"
   ]
  }
 ],
 "metadata": {
  "kernelspec": {
   "display_name": "HOD",
   "language": "python",
   "name": "python3"
  },
  "language_info": {
   "codemirror_mode": {
    "name": "ipython",
    "version": 3
   },
   "file_extension": ".py",
   "mimetype": "text/x-python",
   "name": "python",
   "nbconvert_exporter": "python",
   "pygments_lexer": "ipython3",
   "version": "3.11.5"
  }
 },
 "nbformat": 4,
 "nbformat_minor": 2
}
